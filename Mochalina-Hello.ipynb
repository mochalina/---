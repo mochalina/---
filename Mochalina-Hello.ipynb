{
 "cells": [
  {
   "cell_type": "markdown",
   "id": "bc8bd7fc-c6fe-4a7c-9bb6-cc751f828c41",
   "metadata": {},
   "source": [
    "### Первая программа на суперкомпьютере"
   ]
  },
  {
   "cell_type": "code",
   "execution_count": 1,
   "id": "fb220840-67c3-494f-8057-7e8c9f32f520",
   "metadata": {},
   "outputs": [
    {
     "name": "stdout",
     "output_type": "stream",
     "text": [
      "Hello, World!\n"
     ]
    }
   ],
   "source": [
    "print (\"Hello, World!\")"
   ]
  },
  {
   "cell_type": "markdown",
   "id": "795d3d11-bd7c-47d3-b56d-7098e240b2d7",
   "metadata": {},
   "source": [
    "Выполнила: Мочалина А.С."
   ]
  }
 ],
 "metadata": {
  "kernelspec": {
   "display_name": "Python 3 (ipykernel)",
   "language": "python",
   "name": "python3"
  },
  "language_info": {
   "codemirror_mode": {
    "name": "ipython",
    "version": 3
   },
   "file_extension": ".py",
   "mimetype": "text/x-python",
   "name": "python",
   "nbconvert_exporter": "python",
   "pygments_lexer": "ipython3",
   "version": "3.8.12"
  }
 },
 "nbformat": 4,
 "nbformat_minor": 5
}
