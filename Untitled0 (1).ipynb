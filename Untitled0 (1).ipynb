{
  "nbformat": 4,
  "nbformat_minor": 0,
  "metadata": {
    "colab": {
      "name": "Untitled0.ipynb",
      "provenance": [],
      "toc_visible": true
    },
    "kernelspec": {
      "name": "python3",
      "display_name": "Python 3"
    },
    "language_info": {
      "name": "python"
    }
  },
  "cells": [
    {
      "cell_type": "markdown",
      "source": [
        "# Греческий алфавит\n",
        "Заглавная|Строчная|Название\n",
        "--|--|--\n",
        "A|α|альфа\n",
        "B|β|бета\n",
        "Г|γ|гамма "
      ],
      "metadata": {
        "id": "V3sz-9UO9lWL"
      }
    },
    {
      "cell_type": "markdown",
      "source": [
        "# Нормальное распредление\n",
        "\n",
        "Формула в отдельной строке:\n",
        "$${\\displaystyle f(x)={\\frac {1}{\\sigma {\\sqrt {2\\pi }}}}e^{-{\\frac {1}{2}}\n",
        "\\left({\\frac {x-\\mu }{\\sigma }}\\right)*{2}}}$$\n",
        "\n",
        "В тексте:\n",
        "${\\displaystyle f(x)={\\frac {1}{\\sigma {\\sqrt {2\\pi }}}}e^{-{\\frac {1}{2}}\\left({\\frac {x-\\mu }{\\sigma }}\\right)*{2}}}$"
      ],
      "metadata": {
        "id": "BNRRTWxqAMB9"
      }
    },
    {
      "cell_type": "markdown",
      "source": [
        "# Заголовок первого уровня \n",
        "## Заголовок второго уровня \n",
        "### Заголовок третьего уровня "
      ],
      "metadata": {
        "id": "DZlIvEniGLfc"
      }
    }
  ]
}