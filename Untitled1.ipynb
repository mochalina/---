{
  "nbformat": 4,
  "nbformat_minor": 0,
  "metadata": {
    "colab": {
      "name": "Untitled1.ipynb",
      "provenance": [],
      "collapsed_sections": []
    },
    "kernelspec": {
      "name": "python3",
      "display_name": "Python 3"
    },
    "language_info": {
      "name": "python"
    }
  },
  "cells": [
    {
      "cell_type": "markdown",
      "source": [
        "Мочалина Алина Сергеевна ПИ-323\n",
        "Гистограмма и кумулята"
      ],
      "metadata": {
        "id": "uUYTfJMLYskL"
      }
    },
    {
      "cell_type": "code",
      "source": [
        "# Загружаем библиотеку numpy\n",
        "import numpy as np\n",
        "# numpy.random.seed\n",
        "# random.seed(self, seed=None)\n",
        "\n",
        "# Номер зачётки - начальное состояние генератора\n",
        "np.random.seed(19130017)\n",
        "\n",
        "# numpy.random.normal\n",
        "# https://numpy.org/doc/stable/reference/random/generated/numpy.random.normal.html\n",
        "# random.normal(loc=0.0, scale=1.0, size=None)\n",
        "\n",
        "# Среднее значение (математическое ожидание)\n",
        "mu = 100\n",
        "\n",
        "# Сигма (стандартное отклонение)\n",
        "sigma = 10\n",
        "\n",
        "# Размер (объём) выборки\n",
        "N = 10000\n",
        "\n",
        "# Генератор случайных чисел с нормальным распределением\n",
        "x = np.random.normal(mu, sigma, N)\n",
        "# https://matplotlib.org/stable/api/_as_gen/matplotlib.pyplot.hist.html\n",
        "\n",
        "# Загружаем графическую библиотеку\n",
        "import matplotlib.pyplot as plt"
      ],
      "metadata": {
        "id": "NtuTHhP8aIMm"
      },
      "execution_count": 7,
      "outputs": []
    }
  ]
}